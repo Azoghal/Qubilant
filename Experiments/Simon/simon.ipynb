{
 "cells": [
  {
   "cell_type": "code",
   "execution_count": 2,
   "metadata": {},
   "outputs": [],
   "source": [
    "from qiskit import *\n",
    "import numpy as np"
   ]
  },
  {
   "attachments": {},
   "cell_type": "markdown",
   "metadata": {},
   "source": [
    "## Simon's Algorithm\n",
    "This algorithm was the first proof of an exponential speed-up compared to the best classical algorithm for the chosen problem. The problem is determining if a black-box function $f$ is $1:1$ or $2:1$, under the promise that\n",
    "\n",
    "$$f(x) = f(y) \\text{~if any only if~} x \\oplus y \\in \\{0^n, s\\}$$\n",
    "\n",
    "for some unknown $s \\in \\{0,1\\}^n, for all $x,y \\in \\{0,1\\}^n$.\n",
    "\n",
    "To solve the problem we must distinguish between $s=0^n$ (one to one) and $s\\ne 0^n$ (two to one)."
   ]
  },
  {
   "attachments": {},
   "cell_type": "markdown",
   "metadata": {},
   "source": [
    "##### Understanding the formulation\n",
    "Consider the case that $f$ is one to one.\n",
    "\n",
    "$$f(x_1) = f(x_2) \\text{~iff~} x_1 = x_2$$\n",
    "\n",
    "$x_1 \\oplus x_2 = 0^n$, so the set should contain just $0^n$ (e.g. $s = 0^n$).\n",
    "\n",
    "For the case that $f$ is two to one:\n",
    "\n",
    "$$f(x_1) = f(x_2) \\text{~iff~} x_1 \\oplus x_2 \\in \\{0^n, s\\}$$\n",
    "\n",
    "The $0^n$ term is still present as the property that $f(x_1)=f(x_2) \\text{~if~} x_1 = x_2$ still holds, but there are now also cases where different inputs map to the same value.\n",
    "\n",
    "Say the bitstring $s=0^{n-1}1$, and we let $n=2$. Now we have four inputs, whose binary representations are $00, 01, 10, 11$.\n",
    "\n",
    "$$00 \\oplus 01 = 01 = s\\\\00 \\oplus 10 = 10 \\ne s\\\\00 \\oplus 11 = 11 \\ne s\\\\ 01 \\oplus 10 = 11 \\ne s \\\\ 01 \\oplus 11 = 10 \\ne s\\\\ 10 \\oplus 11 = 01 = s $$\n",
    "\n",
    "And we find that $f(0) = f(1), f(2) = f(3)$, and the function is two to one."
   ]
  },
  {
   "attachments": {},
   "cell_type": "markdown",
   "metadata": {},
   "source": [
    "## Quantum Algorithm\n",
    "\n",
    "Similar structure as with Deutsch-Jozsa, Bernstein-Vazirani etc., but now we have two registers of $n$ qubits.\n",
    "\n",
    "1. Initialise all qubits to $\\ket{0}$\n",
    "2. Apply Hadamard transform to the first register\n",
    "3. Apply the quantum black box $Q_f$ taking all qubits as input\n",
    "4. Measure the second register\n",
    "5. Hadamard transform the first register\n",
    "6. Measure the first register\n",
    "\n",
    "#### Before Query\n",
    "Our two n-qubit registers are initialized to $\\ket{\\psi_1}=\\ket{0}^{\\otimes n}\\ket{0}^{\\otimes n}$, and we apply the Hadamard transform to the first register to get $\\ket{\\psi_2}=\\frac{1}{\\sqrt{2^n}}\\sum_{x \\in \\{0,1\\}^n}\\ket{x}\\ket{0}^{\\otimes n}$\n",
    "\n",
    "#### The Query Function $Q_f$\n",
    "\n",
    "The query function $Q_F$ performs\n",
    "\n",
    "$$\\ket{x}\\ket{a} \\rightarrow \\ket{x}\\ket{a \\oplus f(x)}$$\n",
    "\n",
    "And we have the second register initialized to the zero state:\n",
    "\n",
    "$$\\ket{x}\\ket{0} \\rightarrow \\ket{x}\\ket{f(x)}$$\n",
    "\n",
    "Applying this to the state $\\ket{\\psi_2}$ we get:\n",
    "\n",
    "$$\\ket{\\psi_3} = \\frac{1}{\\sqrt{2^n}}\\sum_{x \\in \\{0,1\\}^n}\\ket{x}\\ket{f(x)}^{\\otimes n}$$\n",
    "\n",
    "#### After Query\n",
    "\n",
    "First we measure the second register, to get a value for $f(x)$. This value for $f(x)$ could correspond to two possible inputs: $x$ or $y$, where $y=x\\oplus s$. Having measured the second register, we can drop it from our notation, and \n",
    "\n",
    "$$\\ket{\\psi_4} = \\frac{1}{\\sqrt{2}} (\\ket{x} + \\ket{y})$$\n",
    "\n",
    "We apply the Hadamard transform to the first register.\n",
    "\n",
    "$$\\ket{\\psi_5} = \\frac{1}{\\sqrt{2_{n+1}}}\\sum_{z \\in \\{0,1\\}^n} [(-1)^{x \\cdot z} + (-1)^{y \\cdot z}]\\ket{z}$$\n",
    "\n",
    "Inspecting the coefficient we see that measurement will only give an output if $x \\cdot z = y \\cdot z$\n",
    "\n",
    "$$ x \\cdot z = y \\cdot z\\\\\n",
    "x \\cdot z = (x \\oplus s) \\cdot z \\\\\n",
    "x \\cdot z = (x \\cdot z) \\oplus (s \\cdot z)\\\\\n",
    "s \\cdot z = 0 (\\text{mod} 2)$$\n",
    "\n",
    "$z$ is the string we are measuring, and its dot product with $s$ = 0. If we repeat the algorithm until we get $n$ different values of $z$ ($\\approx n$ times), we can determine $b$ via e.g. Gaussian elimination.\n"
   ]
  },
  {
   "attachments": {},
   "cell_type": "markdown",
   "metadata": {},
   "source": [
    "### Query function"
   ]
  },
  {
   "cell_type": "code",
   "execution_count": 3,
   "metadata": {},
   "outputs": [],
   "source": [
    "def build_qf(n:int, s:str):\n",
    "    assert len(s) == n\n",
    "    # Generates an oracle for s.x mod 2\n",
    "    qf = QuantumCircuit(2*n,name=\"$Q_f$\")\n",
    "    # copy content of first register to second register\n",
    "    qf.cx(range(n), range(n,2*n))\n",
    "    s = s[::-1] # reverse b to respect qiskit order\n",
    "    if \"1\" in s: \n",
    "        # b not all 0\n",
    "        j = s.find(\"1\")\n",
    "        s_inds = [n+i for i,e in enumerate(s) if e==\"1\"]\n",
    "        # if x[j] is 1, then xor second register with b\n",
    "        qf.cx(j,s_inds)\n",
    "    return qf"
   ]
  },
  {
   "cell_type": "code",
   "execution_count": 4,
   "metadata": {},
   "outputs": [
    {
     "data": {
      "image/png": "[encoded data removed]",
      "text/plain": [
       "<Figure size 538.33x535.111 with 1 Axes>"
      ]
     },
     "execution_count": 4,
     "metadata": {},
     "output_type": "execute_result"
    }
   ],
   "source": [
    "d = build_qf(3, \"110\")\n",
    "d.draw('mpl')"
   ]
  },
  {
   "cell_type": "code",
   "execution_count": 5,
   "metadata": {},
   "outputs": [
    {
     "data": {
      "image/png": "[encoded data removed]",
      "text/plain": [
       "<Figure size 1123.61x618.722 with 1 Axes>"
      ]
     },
     "execution_count": 5,
     "metadata": {},
     "output_type": "execute_result"
    }
   ],
   "source": [
    "n: int = int(input(\"n = ... \"))\n",
    "s: str = input(\"s = ... \")\n",
    "\n",
    "circuit = QuantumCircuit(2*n,n)\n",
    "# prepare our initial state - hadamard for first register\n",
    "circuit.h(range(n))\n",
    "circuit.barrier()\n",
    "#Choose an oracle\n",
    "query = build_qf(n, s).to_instruction()\n",
    "\n",
    "circuit.append(query, range(2*n))\n",
    "circuit.barrier()\n",
    "# Hadamard and measure\n",
    "#circuit.measure(range(n,2*n), ) # measure second register\n",
    "circuit.h(range(n)) # hadamard first\n",
    "circuit.measure(range(n),range(n))\n",
    "circuit.decompose().draw('mpl')\n",
    "#circuit.draw('mpl')"
   ]
  },
  {
   "attachments": {},
   "cell_type": "markdown",
   "metadata": {},
   "source": [
    "### Results\n",
    "\n",
    "Running the circuit many times, we see the 4 results that occur with 25% probability. "
   ]
  },
  {
   "cell_type": "code",
   "execution_count": 6,
   "metadata": {},
   "outputs": [
    {
     "data": {
      "image/png": "[encoded data removed]",
      "text/plain": [
       "<Figure size 700x500 with 1 Axes>"
      ]
     },
     "execution_count": 6,
     "metadata": {},
     "output_type": "execute_result"
    }
   ],
   "source": [
    "from qiskit.visualization import plot_histogram\n",
    "\n",
    "backend = BasicAer.get_backend('qasm_simulator')\n",
    "job = backend.run(transpile(circuit, backend))\n",
    "counts = job.result().get_counts()\n",
    "plot_histogram(counts)"
   ]
  },
  {
   "attachments": {},
   "cell_type": "markdown",
   "metadata": {},
   "source": [
    "In our case we gave $s$ as an input, so we know it:"
   ]
  },
  {
   "cell_type": "code",
   "execution_count": 7,
   "metadata": {},
   "outputs": [
    {
     "data": {
      "text/plain": [
       "'110'"
      ]
     },
     "execution_count": 7,
     "metadata": {},
     "output_type": "execute_result"
    }
   ],
   "source": [
    "s"
   ]
  },
  {
   "attachments": {},
   "cell_type": "markdown",
   "metadata": {},
   "source": [
    "We can verify that these results satisft $s \\cdot z = 0 (\\text{mod}~2)$"
   ]
  },
  {
   "cell_type": "code",
   "execution_count": 8,
   "metadata": {},
   "outputs": [
    {
     "name": "stdout",
     "output_type": "stream",
     "text": [
      "001 dot 110 = 0 (mod 2)\n",
      "000 dot 110 = 0 (mod 2)\n",
      "111 dot 110 = 0 (mod 2)\n",
      "110 dot 110 = 0 (mod 2)\n"
     ]
    }
   ],
   "source": [
    "def dot(s, z) -> int:\n",
    "    total: int= 0\n",
    "    for i in range(len(s)):\n",
    "        total += int(s[i]) * int(z[i])\n",
    "    return (total % 2)\n",
    "\n",
    "for z in counts:\n",
    "    print(f\"{z} dot {s} = {dot(z,s)} (mod 2)\")\n"
   ]
  },
  {
   "attachments": {},
   "cell_type": "markdown",
   "metadata": {},
   "source": [
    "For test case n=3, s = 110:\n",
    "$$ \n",
    "b_2 = 0 (\\text{mod~} 2)\\\\\n",
    "b_0 + b_1 + b_2 = 0 (\\text{mod~} 2)\\\\\n",
    "b_0 + b_1 = 0 (\\text{mod~} 2)\\\\$$\n",
    "\n",
    "so\n",
    "$$b_2 = 0\\\\\n",
    "b_0 + b_1 = 0 (\\text{mod~} 2)$$\n",
    "\n",
    "And we have two options:\n",
    "\n",
    "$$ s = 000 \\\\ s = 110$$\n",
    "\n",
    "Because $s=110 \\ne 000$ is a solution, we have shown that the function must be two to one, as expected."
   ]
  },
  {
   "attachments": {},
   "cell_type": "markdown",
   "metadata": {},
   "source": [
    "#### Solve for $s$"
   ]
  },
  {
   "cell_type": "code",
   "execution_count": 9,
   "metadata": {},
   "outputs": [
    {
     "data": {
      "text/plain": [
       "{'001': 272, '000': 267, '111': 242, '110': 243}"
      ]
     },
     "execution_count": 9,
     "metadata": {},
     "output_type": "execute_result"
    }
   ],
   "source": [
    "jr = job.result()\n",
    "jr.get_counts()\n"
   ]
  },
  {
   "cell_type": "code",
   "execution_count": 13,
   "metadata": {},
   "outputs": [
    {
     "data": {
      "text/plain": [
       "array([[0, 0, 1],\n",
       "       [0, 0, 0],\n",
       "       [1, 1, 1],\n",
       "       [1, 1, 0]])"
      ]
     },
     "execution_count": 13,
     "metadata": {},
     "output_type": "execute_result"
    }
   ],
   "source": [
    "a = np.array([[int(i) for i in k] for k in jr.get_counts()])\n",
    "a"
   ]
  },
  {
   "cell_type": "code",
   "execution_count": 18,
   "metadata": {},
   "outputs": [
    {
     "data": {
      "text/plain": [
       "array([1, 1, 0])"
      ]
     },
     "execution_count": 18,
     "metadata": {},
     "output_type": "execute_result"
    }
   ],
   "source": [
    "ss = np.array([1,1,0])\n",
    "ss"
   ]
  },
  {
   "cell_type": "code",
   "execution_count": 19,
   "metadata": {},
   "outputs": [
    {
     "data": {
      "text/plain": [
       "array([0, 0, 2, 2])"
      ]
     },
     "execution_count": 19,
     "metadata": {},
     "output_type": "execute_result"
    }
   ],
   "source": [
    "np.matmul(a,ss)"
   ]
  },
  {
   "cell_type": "code",
   "execution_count": 11,
   "metadata": {},
   "outputs": [],
   "source": [
    "import scipy as sp\n",
    "\n",
    "def solve_equations(data,results):\n",
    "    tolerance = 1e-3\n",
    "    sing_values = sp.linalg.svdvals(results)\n",
    "    print(sing_values)\n",
    "    if sum(sing_values < tolerance) == 0:\n",
    "        print(\"Sucess\")\n",
    "    else:\n",
    "        print(sing_values < tolerance)"
   ]
  },
  {
   "cell_type": "code",
   "execution_count": 12,
   "metadata": {},
   "outputs": [
    {
     "name": "stdout",
     "output_type": "stream",
     "text": [
      "[2.17532775e+00 1.12603250e+00 1.19381245e-16 0.00000000e+00]\n",
      "[False False  True  True]\n"
     ]
    }
   ],
   "source": [
    "solve_equations(None, a)"
   ]
  },
  {
   "cell_type": "code",
   "execution_count": 22,
   "metadata": {},
   "outputs": [
    {
     "data": {
      "text/plain": [
       "['0010', '0000', '1110', '1100']"
      ]
     },
     "execution_count": 22,
     "metadata": {},
     "output_type": "execute_result"
    }
   ],
   "source": [
    "from scipy.linalg import solve\n",
    "eqs = [k+'0' for k in jr.get_counts()]\n",
    "eqs"
   ]
  },
  {
   "cell_type": "code",
   "execution_count": null,
   "metadata": {},
   "outputs": [],
   "source": []
  }
 ],
 "metadata": {
  "kernelspec": {
   "display_name": "Python 3",
   "language": "python",
   "name": "python3"
  },
  "language_info": {
   "codemirror_mode": {
    "name": "ipython",
    "version": 3
   },
   "file_extension": ".py",
   "mimetype": "text/x-python",
   "name": "python",
   "nbconvert_exporter": "python",
   "pygments_lexer": "ipython3",
   "version": "3.8.10"
  },
  "orig_nbformat": 4
 },
 "nbformat": 4,
 "nbformat_minor": 2
}
