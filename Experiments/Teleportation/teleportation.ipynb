{
 "cells": [
  {
   "cell_type": "code",
   "execution_count": null,
   "metadata": {},
   "outputs": [],
   "source": [
    "from qiskit import *\n",
    "from qiskit import Aer\n",
    "from qiskit.quantum_info import random_statevector\n",
    "from qiskit.visualization import plot_bloch_multivector, array_to_latex\n",
    "from qiskit.extensions import Initialize\n",
    "import numpy as np"
   ]
  },
  {
   "cell_type": "code",
   "execution_count": null,
   "metadata": {},
   "outputs": [],
   "source": [
    "# Random 1 qubit state to teleport\n",
    "psi = random_statevector(2)\n",
    "init_gate = Initialize(psi)\n",
    "init_gate.label = \"Init\""
   ]
  },
  {
   "cell_type": "code",
   "execution_count": null,
   "metadata": {},
   "outputs": [],
   "source": [
    "circuit = QuantumCircuit(3,2)\n",
    "# 0 - Alice\n",
    "# 1 - Shared\n",
    "# 2 - Bob\n",
    "\n",
    "# Give Alice's qubit a random state, what we want to transport\n",
    "circuit.append(init_gate,[0])\n",
    "circuit.barrier()\n",
    "\n",
    "# Preprepared Bell state for Shared and Bob\n",
    "circuit.h(1) # H(shared)\n",
    "circuit.cnot(1,2) # CNOT(Shared,Bob)\n",
    "circuit.barrier()\n",
    "\n",
    "# Alice entangling\n",
    "circuit.cnot(0,1)\n",
    "circuit.h(0)\n",
    "circuit.barrier()\n",
    "\n",
    "circuit.measure([0,1],[0,1]) # measure the states\n",
    "\n",
    "# Bob Reconstructing\n",
    "circuit.x(2).c_if(0,1)\n",
    "circuit.z(2).c_if(1,1)\n",
    "\n",
    "# Measuring\n",
    "circuit.draw('mpl')"
   ]
  },
  {
   "cell_type": "code",
   "execution_count": null,
   "metadata": {},
   "outputs": [],
   "source": [
    "display(array_to_latex(psi))\n",
    "plot_bloch_multivector(psi)"
   ]
  },
  {
   "cell_type": "code",
   "execution_count": null,
   "metadata": {},
   "outputs": [],
   "source": [
    "backend = Aer.get_backend('aer_simulator')\n",
    "circuit.save_statevector()\n",
    "out_vector = backend.run(circuit).result().get_statevector()\n",
    "plot_bloch_multivector(out_vector)\n"
   ]
  },
  {
   "cell_type": "code",
   "execution_count": null,
   "metadata": {},
   "outputs": [],
   "source": []
  }
 ],
 "metadata": {
  "kernelspec": {
   "display_name": "Python 3",
   "language": "python",
   "name": "python3"
  },
  "language_info": {
   "codemirror_mode": {
    "name": "ipython",
    "version": 3
   },
   "file_extension": ".py",
   "mimetype": "text/x-python",
   "name": "python",
   "nbconvert_exporter": "python",
   "pygments_lexer": "ipython3",
   "version": "3.9.5"
  },
  "orig_nbformat": 4
 },
 "nbformat": 4,
 "nbformat_minor": 2
}
