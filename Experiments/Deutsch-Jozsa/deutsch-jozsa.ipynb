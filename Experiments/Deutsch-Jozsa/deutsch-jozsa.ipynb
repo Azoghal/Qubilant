{
 "cells": [
  {
   "cell_type": "code",
   "execution_count": 4,
   "metadata": {},
   "outputs": [],
   "source": [
    "from qiskit import *"
   ]
  },
  {
   "attachments": {},
   "cell_type": "markdown",
   "metadata": {},
   "source": [
    "## The Deutsch-Jozsa Algorithm\n",
    "This algorithm solves the problem of determining if a given binary funcion $\\{0,1\\}^n\\rightarrow \\{0,1\\}$ is balanced or constant. A balanced function is one that has output 1 for precisely half of the input domain.\n",
    "\n",
    "<!-- There are $2^n$ n-bit functions. Two of these will be constant functions, for outputs 0 and 1. Some of the rest will be balanced. -->\n",
    "\n",
    "I'll show that the membership of the two classes can be determined using a quantum operation."
   ]
  },
  {
   "attachments": {},
   "cell_type": "markdown",
   "metadata": {},
   "source": [
    "### Configurable Oracle"
   ]
  },
  {
   "cell_type": "code",
   "execution_count": 13,
   "metadata": {},
   "outputs": [],
   "source": [
    "import numpy as np\n",
    "\n",
    "def build_oracle(balanced:bool, n:int):\n",
    "    # Generates a balanced or constant oracle for an n-bit binary function\n",
    "    oracle = QuantumCircuit(n+1,name=\"Oracle\")\n",
    "    if balanced:\n",
    "        bits = [np.random.choice([0,1]) for _ in range(n)]\n",
    "        for qubit_i, bit in enumerate(bits):\n",
    "            if bit:\n",
    "                oracle.x(qubit_i)\n",
    "        for qubit_i, bit in enumerate(bits):\n",
    "            oracle.cnot(qubit_i, n) \n",
    "\n",
    "        for qubit_i, bit in enumerate(bits):\n",
    "            if bit:\n",
    "                oracle.x(qubit_i)\n",
    "    else:\n",
    "        # constant\n",
    "        constant_val = np.random.choice([0,1])\n",
    "        if constant_val == 1:\n",
    "            oracle.x(n)\n",
    "    return oracle"
   ]
  },
  {
   "cell_type": "code",
   "execution_count": 19,
   "metadata": {},
   "outputs": [
    {
     "data": {
      "image/png": "[encoded data removed]",
      "text/plain": [
       "<Figure size 789.163x451.5 with 1 Axes>"
      ]
     },
     "execution_count": 19,
     "metadata": {},
     "output_type": "execute_result"
    }
   ],
   "source": [
    "n = int(input(\"n=...?\"))\n",
    "\n",
    "circuit = QuantumCircuit(n+1,n)\n",
    "# prepare our initial state: |00> to |01> to |+>|->\n",
    "circuit.x(n) \n",
    "circuit.h(range(n+1))\n",
    "\n",
    "#Choose an oracle\n",
    "oracle = build_oracle(balanced=True,n=n).to_instruction()\n",
    "\n",
    "circuit.append(oracle, range(n+1))\n",
    "\n",
    "# Hadamard and measure\n",
    "circuit.h(range(n))\n",
    "circuit.measure(range(n),range(n))\n",
    "circuit.draw('mpl')"
   ]
  },
  {
   "attachments": {},
   "cell_type": "markdown",
   "metadata": {},
   "source": [
    "We can ignore the second qubit. \n",
    "\n",
    "After the Oracle, the first qubit `q0` will be in the state $\\frac{1}{\\sqrt{2}}(\\ket{0} + (-1)^{f(0)\\oplus f(1)}\\ket{1})$.\n",
    "\n",
    "The key insight is that the $\\ket{1}$ term has a coefficient that can flip signs. If the result of $f(0) \\oplus f(1)$ is 0, then the coefficient will be positive, otherwise it will be negative.\n",
    "\n",
    "Considering when $f(0) \\oplus f(1)$, we see that this is equal to 1 exclusively when $f(0) \\ne f(1)$, i.e. when the function is balanced. This leads to the coefficient being negative.\n",
    "\n",
    "By applying the Hadamard gate and then measuring, we  measure $\\ket{1}$ if and only if the function is balanced."
   ]
  },
  {
   "cell_type": "code",
   "execution_count": null,
   "metadata": {},
   "outputs": [],
   "source": [
    "from qiskit.visualization import plot_histogram\n",
    "\n",
    "backend = BasicAer.get_backend('qasm_simulator')\n",
    "job = backend.run(transpile(circuit, backend))\n",
    "counts = job.result().get_counts()\n",
    "plot_histogram(counts)"
   ]
  },
  {
   "attachments": {},
   "cell_type": "markdown",
   "metadata": {},
   "source": []
  }
 ],
 "metadata": {
  "kernelspec": {
   "display_name": "Python 3",
   "language": "python",
   "name": "python3"
  },
  "language_info": {
   "codemirror_mode": {
    "name": "ipython",
    "version": 3
   },
   "file_extension": ".py",
   "mimetype": "text/x-python",
   "name": "python",
   "nbconvert_exporter": "python",
   "pygments_lexer": "ipython3",
   "version": "3.8.10"
  },
  "orig_nbformat": 4
 },
 "nbformat": 4,
 "nbformat_minor": 2
}
