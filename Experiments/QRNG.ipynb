{
 "cells": [
  {
   "cell_type": "code",
   "execution_count": 1,
   "metadata": {},
   "outputs": [],
   "source": [
    "## Random number generation using unentangled qubits.\n",
    "\n",
    "from qiskit import QuantumCircuit, transpile\n",
    "from qiskit_aer import AerSimulator"
   ]
  },
  {
   "cell_type": "code",
   "execution_count": 11,
   "metadata": {},
   "outputs": [
    {
     "name": "stdout",
     "output_type": "stream",
     "text": [
      "Here are your random bits: 1011010000000001100100010111010001011011100011001110110010101110011010001100111111000011100001111100101010011110111111110011001001011111101111100011001011110111000001001001001101111100011001011011100111101001110101110110001001111100011010101011011010000011\n",
      "Which is: 81419083482268217846260392030363663621879667616078506186005563755575691097731\n"
     ]
    }
   ],
   "source": [
    "### Generate n_bits uniform random bits ###\n",
    "n_bits = int(input(\"How many bits?\"))\n",
    "\n",
    "simulator = AerSimulator()\n",
    "circuit = QuantumCircuit(1, 1)\n",
    "circuit.h(0)\n",
    "circuit.measure(0,0)\n",
    "compiled_circuit = transpile(circuit, simulator)\n",
    "\n",
    "job = simulator.run(compiled_circuit, shots=n_bits, memory=True)\n",
    "result = job.result()\n",
    "random_bits = \"\".join(result.get_memory())\n",
    "print(f\"Here are your random bits: {random_bits}\")\n",
    "print(f\"Which is: {int(random_bits,base=2)}\")\n"
   ]
  },
  {
   "cell_type": "code",
   "execution_count": 12,
   "metadata": {},
   "outputs": [
    {
     "data": {
      "text/html": [
       "<pre style=\"word-wrap: normal;white-space: pre;background: #fff0;line-height: 1.1;font-family: &quot;Courier New&quot;,Courier,monospace\">     ┌───┐┌─┐\n",
       "  q: ┤ H ├┤M├\n",
       "     └───┘└╥┘\n",
       "c: 1/══════╩═\n",
       "           0 </pre>"
      ],
      "text/plain": [
       "     ┌───┐┌─┐\n",
       "  q: ┤ H ├┤M├\n",
       "     └───┘└╥┘\n",
       "c: 1/══════╩═\n",
       "           0 "
      ]
     },
     "execution_count": 12,
     "metadata": {},
     "output_type": "execute_result"
    }
   ],
   "source": [
    "circuit.draw()"
   ]
  },
  {
   "cell_type": "code",
   "execution_count": null,
   "metadata": {},
   "outputs": [],
   "source": []
  }
 ],
 "metadata": {
  "kernelspec": {
   "display_name": "Python 3",
   "language": "python",
   "name": "python3"
  },
  "language_info": {
   "codemirror_mode": {
    "name": "ipython",
    "version": 3
   },
   "file_extension": ".py",
   "mimetype": "text/x-python",
   "name": "python",
   "nbconvert_exporter": "python",
   "pygments_lexer": "ipython3",
   "version": "3.8.10"
  },
  "orig_nbformat": 4
 },
 "nbformat": 4,
 "nbformat_minor": 2
}
